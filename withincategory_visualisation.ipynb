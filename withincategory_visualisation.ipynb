{
 "cells": [
  {
   "cell_type": "code",
   "execution_count": 1,
   "id": "172476b0",
   "metadata": {},
   "outputs": [],
   "source": [
    "import pandas as pd\n",
    "import matplotlib.pyplot as plt\n",
    "import numpy as np\n",
    "import seaborn as sns\n",
    "from sklearn import manifold\n",
    "import ipywidgets as widgets\n",
    "#from IPython.display import display\n",
    "#from mpl_toolkits.mplot3d import Axes3D"
   ]
  },
  {
   "cell_type": "code",
   "execution_count": 2,
   "id": "1fc47ee2",
   "metadata": {},
   "outputs": [
    {
     "data": {
      "application/vnd.jupyter.widget-view+json": {
       "model_id": "0a757fe5b2c24e61adab7a3dbe279511",
       "version_major": 2,
       "version_minor": 0
      },
      "text/plain": [
       "interactive(children=(Dropdown(description='Category:', options=('BirdSong', 'BirdSquawk', 'BirdsFlyingOff', '…"
      ]
     },
     "metadata": {},
     "output_type": "display_data"
    },
    {
     "data": {
      "text/plain": [
       "<function __main__.update_plot(category)>"
      ]
     },
     "execution_count": 2,
     "metadata": {},
     "output_type": "execute_result"
    }
   ],
   "source": [
    "##################\n",
    "### Similarity ###\n",
    "##################\n",
    "\n",
    "# Set range so it's the same for all plots\n",
    "rng = range(0, 11)\n",
    "\n",
    "# Load data\n",
    "sim_all = pd.read_csv(\"data/similarity_data_averaged.csv\")\n",
    "\n",
    "# Create dropdown menu\n",
    "cat_options = sorted(sim_all[\"category\"].unique())\n",
    "dropdown = widgets.Dropdown(options=cat_options, value=cat_options[0], description=\"Category:\")\n",
    "\n",
    "# Udate plot for each category\n",
    "def update_plot(category):\n",
    "    plt.rcParams['figure.facecolor'] = 'white'\n",
    "    temp = sim_all[sim_all[\"category\"] == category]\n",
    "    temp_pivot = temp.pivot(index=\"sound1\", columns=\"sound2\", values=\"response\")\n",
    "\n",
    "    #temp_pivot = temp.pivot(\"sound1\", \"sound2\", \"response\")\n",
    "    plt.figure(figsize=(8, 8))\n",
    "    ax = sns.heatmap(data=temp_pivot, annot=True, cmap=\"Spectral_r\", square=True)\n",
    "    ax.set_xlabel(\"Sound 1\")\n",
    "    ax.set_ylabel(\"Sound 2\")\n",
    "    ax.set_title(category)\n",
    "    ax.set_xticklabels(ax.get_xticklabels(), rotation=90)\n",
    "    ax.set_ylim(ax.get_ylim()[::-1]) # flip y-axis\n",
    "    cbar = ax.collections[0].colorbar\n",
    "    cbar.set_ticks(np.linspace(rng[0], rng[-1], num=11))\n",
    "    cbar.set_ticklabels(np.linspace(rng[0], rng[-1], num=11))\n",
    "    cbar.ax.set_ylabel(\"Response\", rotation=-90, va=\"bottom\")\n",
    "    plt.show()\n",
    "\n",
    "# Display plot\n",
    "widgets.interact(update_plot, category=dropdown)\n",
    "#update_plot(dropdown.value)\n"
   ]
  },
  {
   "cell_type": "code",
   "execution_count": 6,
   "id": "0f937a32",
   "metadata": {},
   "outputs": [
    {
     "data": {
      "application/vnd.jupyter.widget-view+json": {
       "model_id": "04bf3007c9794e9aa9cb8dc148da894e",
       "version_major": 2,
       "version_minor": 0
      },
      "text/plain": [
       "Dropdown(description='Category:', options=('BirdSong', 'BirdSquawk', 'BirdsFlyingOff', 'CarHorn', 'CarSkidding…"
      ]
     },
     "metadata": {},
     "output_type": "display_data"
    },
    {
     "data": {
      "application/vnd.jupyter.widget-view+json": {
       "model_id": "52d0537fbd03402fa965aaac217208c8",
       "version_major": 2,
       "version_minor": 0
      },
      "text/plain": [
       "Output()"
      ]
     },
     "metadata": {},
     "output_type": "display_data"
    }
   ],
   "source": [
    "###########\n",
    "### MDS ###\n",
    "###########\n",
    "\n",
    "# Load data\n",
    "similarity_data = pd.read_csv(\"data/similarity_data.csv\")\n",
    "\n",
    "# Udate plot for each category\n",
    "def update_plot(category):\n",
    "    plt.rcParams['figure.facecolor'] = 'white'\n",
    "    data = similarity_data[similarity_data[\"category\"] == category]\n",
    "\n",
    "    # Compute mean response for each sound pair\n",
    "    data = data.groupby([\"sound1\", \"sound2\"]).mean().reset_index()\n",
    "\n",
    "    # Create a dictionary that maps each sound to an integer\n",
    "    sound_to_int = {sound: i for i, sound in enumerate(data[\"sound1\"].unique())}\n",
    "\n",
    "    # Compute dissimilarity matrix\n",
    "    n_sounds = len(sound_to_int)\n",
    "    dissimilarity_matrix = np.zeros((n_sounds, n_sounds))\n",
    "    for _, row in data.iterrows():\n",
    "        i = sound_to_int[row[\"sound1\"]]\n",
    "        j = sound_to_int[row[\"sound2\"]]\n",
    "        dissimilarity_matrix[i, j] = 1 - row[\"response\"]\n",
    "        dissimilarity_matrix[j, i] = 1 - row[\"response\"]\n",
    "\n",
    "    # Perform MDS in 2D and 3D\n",
    "    mds_seed = 123\n",
    "    mds_2d = manifold.MDS(n_components=2, dissimilarity=\"precomputed\", random_state=mds_seed)\n",
    "    mds_3d = manifold.MDS(n_components=3, dissimilarity=\"precomputed\", random_state=mds_seed)\n",
    "    coordinates_2d = mds_2d.fit_transform(dissimilarity_matrix)\n",
    "    coordinates_3d = mds_3d.fit_transform(dissimilarity_matrix)\n",
    "\n",
    "    # Plot MDS in 2D\n",
    "    plt.figure(figsize=(8, 8))\n",
    "    plt.scatter(coordinates_2d[:, 0], coordinates_2d[:, 1])\n",
    "    plt.scatter(np.mean(coordinates_2d[:, 0]), np.mean(coordinates_2d[:, 1]), marker='*', s=200, color='red')\n",
    "    for i, label in enumerate(sound_to_int.keys()):\n",
    "        plt.annotate(label, (coordinates_2d[i, 0], coordinates_2d[i, 1]))\n",
    "    plt.axis(\"equal\")\n",
    "    plt.title(f\"MDS Plot in 2D for {category}\")\n",
    "    plt.show()\n",
    "\n",
    "    # Plot MDS in 3D\n",
    "    figstat = plt.figure(figsize=(8, 8))\n",
    "    ax = figstat.add_subplot(111, projection=\"3d\")\n",
    "    ax.scatter(coordinates_3d[:, 0], coordinates_3d[:, 1], coordinates_3d[:, 2])\n",
    "    ax.scatter(np.mean(coordinates_3d[:, 0]), np.mean(coordinates_3d[:, 1]), np.mean(coordinates_3d[:, 2]), marker='*', s=200, color='red')\n",
    "    for i, label in enumerate(sound_to_int.keys()):\n",
    "        ax.text(coordinates_3d[i, 0], coordinates_3d[i, 1], coordinates_3d[i, 2], label)\n",
    "    ax.set_title(f\"MDS Plot in 3D for {category}\")\n",
    "    plt.show()\n",
    "\n",
    "# Add dropdown menu\n",
    "cat_options = sorted(similarity_data[\"category\"].unique())\n",
    "category_dropdown = widgets.Dropdown(options=cat_options, value=cat_options[0], description='Category:')\n",
    "output = widgets.Output()\n",
    "\n",
    "# Handle dropdown menu\n",
    "def dropdown_eventhandler(change):\n",
    "    output.clear_output()\n",
    "    with output:\n",
    "        update_plot(change.new)\n",
    "\n",
    "# Attach event handler to dropdown\n",
    "category_dropdown.observe(dropdown_eventhandler, names='value')\n",
    "\n",
    "# Display dropdown and plot\n",
    "display(category_dropdown)\n",
    "display(output)\n"
   ]
  },
  {
   "cell_type": "code",
   "execution_count": 4,
   "id": "8a6850ee",
   "metadata": {},
   "outputs": [
    {
     "data": {
      "application/vnd.jupyter.widget-view+json": {
       "model_id": "cd1f77cc75c04c1f8ae31c663d8f2d25",
       "version_major": 2,
       "version_minor": 0
      },
      "text/plain": [
       "interactive(children=(Dropdown(description='Select a category', options=('BirdSong', 'BirdSquawk', 'BirdsFlyin…"
      ]
     },
     "execution_count": 4,
     "metadata": {},
     "output_type": "execute_result"
    }
   ],
   "source": [
    "################\n",
    "### Goodness ###\n",
    "################\n",
    "\n",
    "# Load data\n",
    "good_summary = pd.read_csv(\"data/goodness_data.csv\")\n",
    "\n",
    "# Add dropdown menu\n",
    "cat_options = sorted(good_summary[\"category\"].unique())\n",
    "dropdown_cat = widgets.Dropdown(options=cat_options, description='Select a category')\n",
    "\n",
    "# Update figure for each category\n",
    "def update_plot(category):\n",
    "    plt.rcParams['figure.facecolor'] = 'white'\n",
    "    temp = good_summary[good_summary[\"category\"] == category]\n",
    "    temp = temp.groupby(\"sound1\")[\"response\"].agg([\"mean\", \"sem\"]).reset_index()\n",
    "    plt.figure(figsize=(8, 8))\n",
    "    plt.bar(temp[\"sound1\"], temp[\"mean\"], yerr=temp[\"sem\"], color=\"darkslateblue\", capsize=4)\n",
    "    plt.ylim(0, 10)\n",
    "    plt.xlabel(\"Sound\")\n",
    "    plt.ylabel(\"Average rating\")\n",
    "    plt.title(category)\n",
    "    plt.xticks(range(1, 11)) # set x axis to show all numbers from 1 to 10\n",
    "    plt.gca().set_aspect('equal', adjustable='box')\n",
    "    plt.style.use('classic')\n",
    "    plt.show()\n",
    "\n",
    "# Display plot\n",
    "widgets.interactive(update_plot, category=dropdown_cat)"
   ]
  },
  {
   "cell_type": "code",
   "execution_count": null,
   "id": "74630c93",
   "metadata": {},
   "outputs": [],
   "source": []
  }
 ],
 "metadata": {
  "kernelspec": {
   "display_name": "Python 3 (ipykernel)",
   "language": "python",
   "name": "python3"
  },
  "language_info": {
   "codemirror_mode": {
    "name": "ipython",
    "version": 3
   },
   "file_extension": ".py",
   "mimetype": "text/x-python",
   "name": "python",
   "nbconvert_exporter": "python",
   "pygments_lexer": "ipython3",
   "version": "3.11.4"
  }
 },
 "nbformat": 4,
 "nbformat_minor": 5
}
